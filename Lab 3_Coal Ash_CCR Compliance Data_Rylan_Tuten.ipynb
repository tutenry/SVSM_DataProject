{
 "cells": [
  {
   "cell_type": "markdown",
   "id": "3891aa57",
   "metadata": {
    "id": "3891aa57"
   },
   "source": [
    "Name: Rylan Tuten"
   ]
  },
  {
   "cell_type": "markdown",
   "id": "7340939c",
   "metadata": {
    "id": "7340939c"
   },
   "source": [
    "# Mapping the Coal Ash Contamination\n",
    "##### Adapted from: https://earthjustice.org/features/coal-ash-contaminated-sites-map \n",
    "##### By Jordan Register"
   ]
  },
  {
   "cell_type": "markdown",
   "id": "5f8cac02",
   "metadata": {
    "id": "5f8cac02"
   },
   "source": [
    "## Introduction\n",
    "This is a VERY BREIF introduction to Exploratory Data Analysis with Python. Given that many of you are beginners, the lab will provide a few basic examples of how to use python in to explore a data set. However, it is a fantastic example of how data science lies at the intersection of statistics, computer science, and the domain (context)! \n",
    "\n",
    "## Directions for this Lab\n",
    "- There are two types of cells: Markdown cells (for typing text), and code cells (for typing and running code). \n",
    "- Read through each cell and follow the given directions. \n",
    "- To \"run\" a cell, click the \"Run\" button on the toolbar at the top of the page. After a few seconds (depending on how intense the code is) you should received your output. Output may come in the form of text or visuals (graphs). If the code is typed incorrectly, you may receive an error message. \n",
    "\n",
    "1. Type your name into markdown cell at the top of this notebook. \n",
    "2. Add your First and Last Name to the Title of the Lab at the top of the notebook: (Ex: Lab3_Coal ASH_CCR Compliance Data_Jordan_Register)\n",
    "3. Read the INTRODUCTION, IMPACTS OF COAL ASH, and UNDERSTANDING THE DATA sections and subsections below to understand the context of what we are investigating as well as the variables/attributes and their values included in the dataset.\n",
    "4. Complete all TODO's and subquestions that follow. \n",
    "5. When complete, go to File > Download As > Notebook(.ipynb). \n",
    "6. Upload the Notebook file to the corresponding assignment in Canvas\n",
    "\n",
    "NOTE: While you may work together on this lab, you must EACH COMPLETE AND SUBMIT YOUR OWN notebook file. "
   ]
  },
  {
   "cell_type": "markdown",
   "id": "9f6bb82b",
   "metadata": {
    "id": "9f6bb82b"
   },
   "source": [
    "## INTRODUCTION\n",
    "738 coal ash units in 43 states and Puerto Rico have reported information in compliance with federal coal ash safeguards since 2015. Here’s what the data said.\n",
    "Beginning in 2018, coal-fired electric utilities were compelled to publicly report groundwater monitoring data for the first time ever, following transparency requirements imposed by federal coal ash regulations, known formally as the Coal Combustion Residuals Rule.\n",
    "\n",
    "For decades, utilities have disposed of coal ash dangerously, dumping it in unlined ponds and landfills where the toxins leak into groundwater.\n",
    "\n",
    "According to industry’s own data, more than 95% of the coal ash ponds in the United States are unlined.\n",
    "\n",
    "Almost all of them are contaminating groundwater with toxins above levels that the U.S. Environmental Protection Agency deems safe for drinking water.\n",
    "\n",
    "Much of industry’s disclosure of the data has been in abstruse and non-standard formats. The data can be difficult to find, despite the requirement that the information be publicly accessible. Some utilities fail to post the required information entirely or conceal it behind sign-in walls to prevent search engines from locating the disclosures.\n",
    "\n",
    "Legal and technical experts from Earthjustice, the Environmental Integrity Project, and partner organizations located and analyzed the data disclosures.\n",
    "\n",
    "More than 550 units — at 265 plants — reported groundwater monitoring data.\n",
    "\n",
    "Based on that data, 91% of these plants are contaminating groundwater with toxic substances at levels exceeding federal safe standards."
   ]
  },
  {
   "cell_type": "markdown",
   "id": "41fd6f71",
   "metadata": {
    "id": "41fd6f71"
   },
   "source": [
    "### THE 2015 COAL COMBUSTION RESIDUALS (CCR) RULE \n",
    "is the first-ever federal safeguards against coal ash pollution. The protections were the result of more than a decade of litigation by Earthjustice, on behalf of our clients and alongside our partners."
   ]
  },
  {
   "cell_type": "markdown",
   "id": "4e631db0",
   "metadata": {
    "id": "4e631db0"
   },
   "source": [
    "# THE IMPACTS OF COAL ASH\n",
    "### Harm to human health from breathing and ingesting coal ash toxicants.\n",
    "#### GRAPHIC BY EARTHJUSTICE\n",
    "https://earthjustice.org/sites/default/files/files/coal-ash-man_COMPLETE_2017-07-20_light.pdf\n",
    "\n",
    "![Screenshot%202022-06-22%20125636.png](attachment:Screenshot%202022-06-22%20125636.png)\n",
    "\n",
    "Coal ash, the toxic remains of coal burning in power plants, contains a hazardous brew of toxic pollutants including arsenic, boron, cadmium, chromium, lead, radium, selenium, and more.\n",
    "\n",
    "The toxics in coal ash can cause cancer, heart disease, reproductive failure, and stroke, and can inflict lasting brain damage on children.\n",
    "\n",
    "Earthjustice fights in the courts for a long-term solution to this toxic menace. And we act on behalf of dozens of clients and coalition partners to defeat legislative attempts to subvert federally enforceable safeguards of coal ash.\n",
    "\n",
    "### Is Drinking Water Safe Near Contaminated Coal Ash Sites?\n",
    "Both U.S. EPA and public interest groups have identified at least 24 sites where private wells have been contaminated by coal ash.\n",
    "\n",
    "Most often, neither power companies nor state regulators test private drinking water wells. Most state regulations and U.S. EPA’s CCR Rule require plant owners to test only onsite groundwater.\n",
    "\n",
    "As a result, contamination may go undetected in private wells for years, because most coal ash pollutants have no telltale taste or color.\n",
    "\n",
    "While there is ample groundwater data for most coal plants sufficient to establish that groundwater is contaminated above levels that are safe to drink, determining the quality of drinking water in nearby communities is much more difficult due to lack of data. Consequently, we cannot at this time determine the safety of drinking water near the hundreds of coal ash dumps covered by the CCR Rule.\n",
    "\n",
    "Even with scant data available nationally, there is nevertheless historical evidence that coal ash ponds, landfills, and “beneficial use” have contaminated residential drinking water wells.\n",
    "\n",
    "### Damage to Aquatic Life from Coal Ash Disposal\n",
    "For decades, discharges of coal ash-contaminated water to reservoirs, lakes, rivers and streams have caused significant harm to fish and wildlife.\n",
    "\n",
    "The release of bioaccumulative toxins from coal ash, including arsenic, cadmium, chromium, lead, mercury, and selenium, has caused fish kills, deformities in fish and amphibians, and health hazards to people consuming contaminated fish.\n",
    "\n",
    "Selenium is a particularly dangerous contaminant because it is toxic to aquatic life at very low levels. \n",
    "\n",
    "In addition, selenium bioaccumulates in food chains and passes from parents to offspring in eggs, where it causes a variety of skeletal deformities and other abnormalities in the developing embryos. This can lead to massive reproductive failure and local extinction of species.\n",
    "\n",
    "At least three toxins common to coal ash, including arsenic, methyl mercury, and selenium, can result in biomagnification in aquatic organisms, thereby increasing the danger of ingestion by humans and other animals.\n",
    "\n",
    "A review of documented environmental damage since 1967 reveals that harm from coal ash has injured fish, birds, amphibians, and wildlife at multiple locations across the United States.\n",
    "\n",
    "### Requirements for Industry to Clean Up Groundwater \n",
    "\n",
    "Hundreds of coal ash ponds must be closed over the next several years, and many plant owners are proposing inadequate and sometimes illegal and dangerous closures.\n",
    "\n",
    "The report Cleaning Up Coal Ash For Good provides regulators, policymakers, and communities with the resources to choose effective coal ash pond closures that protect the environment and public health while also creating jobs and benefiting the economy.\n",
    "\n",
    "When comparing the economic, environmental, and community impacts of different closure methods, the analysis finds that there are significantly higher benefits from a clean closure when all ash is removed from leaking ponds and the local community is engaged in closure and redevelopment planning processes. Learn more.\n",
    "\n",
    "Owners of at least 124 plants in 28 states and Puerto Rico (as of Oct. 5, 2020) have posted public notifications that leaking coal ash ponds and landfills at their sites, without an alternative source demonstration, have contaminated groundwater above state and/or federal heath limits for one or more of the following toxic substances: Antimony, Arsenic, Barium, Beryllium, Cadmium, Chromium, Cobalt, Lead, Lithium, Molybdenum, Selenium, Thallium, and Radium 226 and 228 combined.\n",
    "- See the list of 124 plants with available cleanup plans (https://earthjustice.org/sites/default/files/files/admissions_124-plants_coal-ash_10.05.2020.pdf)\n",
    "- See the full map data, which includes information on available and upcoming cleanup plans and alternative source demonstration (https://docs.google.com/spreadsheets/d/1SF6KTLrFSkPglJaKQyN6ZKoYp6k6ZHqGVOdCAGi7rng/edit#gid=0)\n",
    "\n",
    "These admissions trigger requirements under the federal CCR Rule for the companies to clean up groundwater and engage the public, as follows:\n",
    "#### CCR RULE REQUIREMENTS\n",
    "1. CLEANUP PLAN: Each plant owner must develop a cleanup plan (“corrective measures assessment”) designed to remediate any coal ash releases and to restore the contaminated area to its original condition. These cleanup plans must be completed within 180 days of discovering the contamination, and must be posted on the industry’s publicly accessible website 30 days later. The utility owner can qualify for a 60-day extension in certain cases. Cleanup plans are now available at over 100 plants, and more should be posted on industry websites this year.\n",
    "2. PUBLIC MEETING: The plant owner must discuss the results of the corrective measures assessment with interested and affected parties at least 30 days before the company selects a remedy. While there is no strict deadline for remedy selection, the utility must select a cleanup plan “as soon as feasible.” Thus, the exact date of a public meeting will be determined on a site-by-site basis.\n",
    "3. PUBLIC ENGAGEMENT IN THE CLEANUP PROCESS: It is critical for affected communities to play an active role in the review of the cleanup plan and in the cleanup selection process. Because there is no required oversight role for U.S. EPA or state regulators, active community members are the frontline for ensuring adequate cleanup at these contaminated sites. Community evaluation of the cleanup plans will be necessary to ensure timely, comprehensive, and health-protective remediation."
   ]
  },
  {
   "cell_type": "markdown",
   "id": "2c6908a9",
   "metadata": {
    "id": "2c6908a9"
   },
   "source": [
    "# UNDERSTANDING THE DATA "
   ]
  },
  {
   "cell_type": "markdown",
   "id": "31ef6a99",
   "metadata": {
    "id": "31ef6a99"
   },
   "source": [
    "### GROUNDWATER CONTAMINATION SUMMARY \n",
    "Describes the status of groundwater monitoring and whether the operator has found groundwater contamination from coal ash.\n",
    "\n",
    "In the data, Toxic Metal Contamination is per formal industry disclosures. Based on groundwater data available for 265 plants, 91 percent of these plants are contaminating groundwater with toxic substances exceeding federal safe standards.\n",
    "\n",
    "- Toxic Metal Contamination from [X Metals] -- Significant increases above drinking water standards were found for the listed metals. Cleanup plan required by the CCR Rule to stop the release and restore groundwater to original conditions, if no alternative source demonstration was made.\n",
    "\n",
    "- Significant Contamination Significant -- increases in contamination were detected, and enhanced monitoring for toxic metals such as arsenic, lead, and radium has been initiated, if no alternative source demonstration was made.\n",
    "\n",
    "- Groundwater Monitoring in Process -- No statistically significant increases in coal ash contaminants detected above background levels to date. Toxic metals may still, however, be present.\n",
    "\n",
    "- Monitoring Recently Required -- The unit received an extension under the CCR Rule and was required to begin groundwater monitoring in April 2019.\n",
    "\n",
    "- Unknown -- Monitoring is not required at this unit.\n",
    "\n",
    "- Non-Compliance -- The operator has failed to establish a groundwater monitoring system as required by law.\n",
    "\n",
    "- Alternative Source Demonstration (ASD) -- For units with significant contamination and/or toxic metal contamination, some operators have shown that an alternate source is allegedly responsible for the contamination. Any demonstrations are usually posted in the annual groundwater monitoring reports due in March of every year.\n",
    "\n",
    "For more detailed information about specific levels of contamination, please refer to Ashtracker."
   ]
  },
  {
   "cell_type": "markdown",
   "id": "98001466",
   "metadata": {
    "id": "98001466"
   },
   "source": [
    "### CLEANUP PLAN STATUS \n",
    "Cleanup plans are required for all units that have made a determination of toxic metal contamination without demonstrating that a source other than the regulated coal ash dumps caused the contamination (or in other words, making an \"Alternative Source Demonstration\").\n",
    "\n",
    "The cleanup plan must be initiated within 90 days of a contamination finding, and notice of initiation may be publicly posted up to 60 days after initiation. Cleanup plans must be completed within 90 to 150 days of initiation, and publicly posted 30 days after completion.\n",
    "\n",
    "- NA -- The unit never entered groundwater assessment monitoring, or never demonstrated a statistically significant level of groundwater pollution in assessment monitoring.\n",
    "\n",
    "- Operator Claims -- No Cleanup Required Although the unit demonstrated a significant level of pollution in groundwater, the operator then made an Alternative Source Demonstration alleging that the pollution did not come from the coal ash unit.\n",
    "\n",
    "- No Information Available Yet -- The unit is in assessment monitoring. The operator has neither posted an Alternative Source Demonstration, nor posted a notification that an Assessment of Corrective Measures (also known as a \"cleanup plan\") has begun.\n",
    "\n",
    "- Cleanup Plan Due Soon -- The operator has announced that it has started the process of assessing cleanup measures but has not yet posted the draft plan.\n",
    "\n",
    "- Complete Draft Plan Available -- The draft cleanup plan has been posted by the operator. See unit information for link to the draft plan.\n"
   ]
  },
  {
   "cell_type": "markdown",
   "id": "7e35460a",
   "metadata": {
    "id": "7e35460a"
   },
   "source": [
    "### INITIATION OF CLEANUP PLAN DATE \n",
    "Date of initiation of remedy research for the cleanup plan."
   ]
  },
  {
   "cell_type": "markdown",
   "id": "de5e6fd3",
   "metadata": {
    "id": "de5e6fd3"
   },
   "source": [
    "### CLEANUP PLAN DATE \n",
    "Date of the document proposing a remedy (or a selection of remedies) to address contaminated groundwater."
   ]
  },
  {
   "cell_type": "markdown",
   "id": "3dba168f",
   "metadata": {
    "id": "3dba168f"
   },
   "source": [
    "### LINER STATUS \n",
    "Refers to whether the disposal unit was constructed with an impermeable barrier that meets the requirements of the CCR Rule.\n",
    "\n",
    "A liner must include both a synthetic membrane and a two-foot-thick layer of compacted soil, or an equivalent system.\n",
    "\n",
    "- Unlined -- The unit lacks a liner, or the utility has failed to prove that it does have one, which are legally the same.\n",
    "\n",
    "- Lined -- The unit has a liner that satisfies the CCR Rule.\n",
    "\n",
    "- NA/Unknown -- The CCR Rule did not require landfills to disclose their liner status, so for most landfills, we do not have liner information."
   ]
  },
  {
   "cell_type": "markdown",
   "id": "d0167d3f",
   "metadata": {
    "id": "d0167d3f"
   },
   "source": [
    "### CLOSURE STATUS \n",
    "Indicates whether the dump is still operating and, if so, whether the operator has provided notice that it intends to close the unit in the near future.\n",
    "\n",
    "- Open -- The default status for units that have not posted any closure notices. Although activities may vary, we assume these sites are actively receiving new loads of coal ash.\n",
    "\n",
    "- Notice of Intent to Close -- The operator has submitted a formal notice that it will stop dumping coal ash into the unit and begin the closure process in the near future.\n",
    "\n",
    "- Closed -- The operator has indicated that the closure process is complete. For units that closed in place, post-closure care should be ongoing."
   ]
  },
  {
   "cell_type": "markdown",
   "id": "94ee38be",
   "metadata": {
    "id": "94ee38be"
   },
   "source": [
    "### CLOSURE TYPE \n",
    "Specifies the method by which the operator intends to close the coal ash unit, according to disclosures made pursuant to the CCR Rule, or if the unit is already closed, the method the operator actually used.\n",
    "\n",
    "Operators must include this information in a public closure plan even if the impoundment is not yet closed.\n",
    "\n",
    "- In Place -- Closing the dump by leaving the coal ash where it is and “capping” it with a cover. If a unit is closed in place, the operator must continue groundwater monitoring and other post-closure care for the unit for at least 30 years.\n",
    "\n",
    "- Removal -- Excavating the coal ash and transporting it to a different disposal unit for permanent disposal.\n",
    "\n",
    "- Unknown -- The operator has failed to disclose its closure method for the dump, or the closure plan is not yet required."
   ]
  },
  {
   "cell_type": "markdown",
   "id": "3c54fe5e",
   "metadata": {
    "id": "3c54fe5e"
   },
   "source": [
    "### LOCATION RESTRICTION COMPLIANCE \n",
    "Indicates whether the unit complies with the five location restrictions established by the CCR Rule.\n",
    "\n",
    "- Aquifer -- New landfills, expansions and all ponds must sit at least five feet above the uppermost aquifer.\n",
    "\n",
    "- Wetlands -- New landfills, expansions and all ponds must not be located in wetlands, unless operators can demonstrate that the unit does not degrade the wetlands, among other requirements.\n",
    "\n",
    "- Fault Areas -- New landfills, expansions and all ponds must not be located with 200 feet of a fault active within the last 12,000 years.\n",
    "\n",
    "- Seismic Impact Zones -- New landfills, expansions and all ponds must not be located in a place that has at least a 2% chance of a significant earthquake in the next 50 years.\n",
    "\n",
    "- Unstable Areas -- All landfills and ponds must not be located in places that could result in structural damage because of poor foundations (e.g., karst terrain).\n",
    "\n",
    "- A value of NA indicates that the requirement does not apply to the unit in question, or that disclosure is not yet required."
   ]
  },
  {
   "cell_type": "markdown",
   "id": "065c018c",
   "metadata": {
    "id": "065c018c"
   },
   "source": [
    "### HAZARD RATING \n",
    "Describes the potential for loss of life or damage if there is a dam failure at a coal ash impoundment.\n",
    "\n",
    "Based on the same criteria as the Army Corps of Engineers National Inventory of Dams. U.S. EPA defines the ratings, as follows:\n",
    "\n",
    "- HIGH -- Failure or mis-operation of these dams will probably cause loss of human life.\n",
    "\n",
    "- SIGNIFICANT -- Failure or mis-operation of these dams would probably not cause any deaths, but it would cause economic loss, environmental damage, and disruption of lifeline facilities.\n",
    "\n",
    "- LOW -- Failure or mis-operation would be unlikely to cause loss of life or significant economic or environmental losses, with losses principally limited to the owner’s property.\n",
    "\n",
    "- INCISED -- These impoundments do not have dams because they are entirely below ground level. Therefore they have no dam ratings, although underground failures can and do occur.\n",
    "\n",
    "- UNKNOWN -- The operator of the surface impoundment failed to post the required information.\n",
    "\n",
    "- NA -- This requirement only applies to surface impoundments, not landfills."
   ]
  },
  {
   "cell_type": "markdown",
   "id": "7fbed9de",
   "metadata": {
    "id": "7fbed9de"
   },
   "source": [
    "### VOLUME \n",
    "Indicates the quantity of CCR and, if applicable, water held in the unit as of 2018. All measurements are in cubic yards.\n",
    "\n",
    "Some quantities are converted from acre-feet, gallon, and ton values provided by industry. For ton to cubic yard conversions, we assumed a unit weight of 1.2 tons/cubic yard, an estimate used in Duke Energy compliance documents for wet ash. Estimates are given based on historical data where annual data are not available.\n",
    "\n",
    "A value of * indicates the operator did not disclose individual unit numbers, and instead combined them together."
   ]
  },
  {
   "cell_type": "markdown",
   "id": "3af61b72",
   "metadata": {
    "id": "3af61b72"
   },
   "source": [
    "### OPERATOR'S COMPLIANCE WEBSITE \n",
    "The publicly accessible website required by the CCR Rule where the operator’s compliance documents must be posted.\n",
    "\n",
    "Most of these data were drawn from industry websites."
   ]
  },
  {
   "cell_type": "markdown",
   "id": "fb5fa12c",
   "metadata": {
    "id": "fb5fa12c"
   },
   "source": [
    "### DEMOGRAPHIC DATA \n",
    "Estimates were generated using the 2012–2016 American Community Survey (ACS) from the United States Census Bureau and are available in EJSCREEN’s Standard Reports, along with information about other demographic indicators, EJ Indexes, and environmental indicators.\n",
    "\n",
    "- Low-Income -- An estimate of the percent of individuals in households where the household income is less than or equal to twice the federal poverty level.\n",
    "\n",
    "- People-of-Color -- An estimate of the percent of individuals who list their racial status as a race other than white alone and/or list their ethnicity as Hispanic or Latino.\n",
    "\n",
    "EJSCREEN was designed in the context of EPA’s environmental justice policies and is a screening tool that can help identify areas that may warrant additional consideration, analysis, or outreach.\n",
    "\n",
    "In a few cases, data for the 3-mile radius surrounding facilities is unavailable, so the 5-mile results are shown. More information about EJSCREEN’s methods and purpose, ACS data, and their caveats and limitations, especially when looking at small geographic and low-density areas, is available in U.S. EPA’s 2017 Documentation."
   ]
  },
  {
   "cell_type": "markdown",
   "id": "a3e628df",
   "metadata": {
    "id": "a3e628df"
   },
   "source": [
    "# LET'S EXPLORE!\n",
    "## Some Investigative Questions\n",
    "### TODO 1\n",
    "Now that you've had a chance to read a bit about coal ash and its impact and understand what is in this data set, what are some investigative questions you might ask to learn more? Type them in the markdown cell below. "
   ]
  },
  {
   "cell_type": "markdown",
   "id": "f3a4b29b",
   "metadata": {
    "id": "f3a4b29b"
   },
   "source": [
    "How do the effects of coal ash poisoning vary with age and gender?"
   ]
  },
  {
   "cell_type": "markdown",
   "id": "bdbcfeee",
   "metadata": {
    "id": "bdbcfeee"
   },
   "source": [
    "## Uploading the CCR Data\n",
    "### TODO 2\n",
    "\n",
    "Run the following code to import the numpy, pandas, and matplotlib python packages. "
   ]
  },
  {
   "cell_type": "code",
   "execution_count": null,
   "id": "bd00682d",
   "metadata": {
    "id": "bd00682d"
   },
   "outputs": [],
   "source": [
    "import numpy as np\n",
    "import pandas as pd\n",
    "import matplotlib.pyplot as plt\n",
    "\n",
    "# This is a python magic command.\n",
    "# This command allows the output of matplotlib to be displayed inline, i.e. under the cell.\n",
    "%matplotlib inline"
   ]
  },
  {
   "cell_type": "markdown",
   "id": "42715a5d",
   "metadata": {
    "id": "42715a5d"
   },
   "source": [
    "### TODO 3 \n",
    "load the csv file using pd.read_csv and store it into df_raw.\n",
    "\n",
    "1. Download the CCR Rule Compliance Dataset at https://docs.google.com/spreadsheets/d/1SF6KTLrFSkPglJaKQyN6ZKoYp6k6ZHqGVOdCAGi7rng/edit#gid=1142676809\n",
    "\n",
    "2. Go to file, download as, CSV \n",
    "(this means that when downloaded, each of the values will be separated by commas as opposed to some other delimiter)\n",
    "\n",
    "3. Drop the downloaded file into the SVSM_EDS folder on your desktop. \n",
    "\n",
    "4. Open the folder and right click on the dataset. Select properties. \n",
    "\n",
    "5. Copy the file name at the top of the General panel of the properties box. It should be something like this \"CCR Rule Compliance - CCR RULE COMPLIANCE DATA - Updated April 2021\". Note that the file name needs to be exact (including spaces, punctuation, capitalization, etc.). \n",
    "\n",
    "6. Paste the file name between the quotations and parenthesis in the cell below\n",
    "\n",
    "7. Run the cell to show the dataframe  "
   ]
  },
  {
   "cell_type": "code",
   "execution_count": null,
   "id": "b9e4d150",
   "metadata": {
    "id": "b9e4d150"
   },
   "outputs": [],
   "source": [
    "df_raw = pd.read_csv(\"CCR Rule Compliance - CCR RULE COMPLIANCE DATA - Updated April 2021.csv\")\n",
    "#to read and store the dataset in a dataframe caslled df_raw\n",
    "\n",
    "df_raw\n",
    "#to show the dataframe"
   ]
  },
  {
   "cell_type": "markdown",
   "id": "12177b35",
   "metadata": {
    "id": "12177b35"
   },
   "source": [
    "## Preprocessing the CCR Data\n",
    "### TODO 3\n",
    "Enter your responses to the following questions in the markdown cells below:"
   ]
  },
  {
   "cell_type": "markdown",
   "id": "76d6baa4",
   "metadata": {
    "id": "76d6baa4"
   },
   "source": [
    "1. Scroll through the dataframe. What do you notice? "
   ]
  },
  {
   "cell_type": "markdown",
   "id": "95a39e0d",
   "metadata": {
    "id": "95a39e0d"
   },
   "source": [
    "Answer: "
   ]
  },
  {
   "cell_type": "markdown",
   "id": "b444ddc4",
   "metadata": {
    "id": "b444ddc4"
   },
   "source": [
    "2. How many columns are there? Does this make sense? Why or why not?"
   ]
  },
  {
   "cell_type": "markdown",
   "id": "7b24b0f7",
   "metadata": {
    "id": "7b24b0f7"
   },
   "source": [
    "Answer: "
   ]
  },
  {
   "cell_type": "markdown",
   "id": "29623b95",
   "metadata": {
    "id": "29623b95"
   },
   "source": [
    "3. How many rows are there? Does this make sense? Why or why not? "
   ]
  },
  {
   "cell_type": "markdown",
   "id": "25da747f",
   "metadata": {
    "id": "25da747f"
   },
   "source": [
    "Answer: "
   ]
  },
  {
   "cell_type": "markdown",
   "id": "77d000d2",
   "metadata": {
    "id": "77d000d2"
   },
   "source": [
    "4. Run the following code to see what each variable data type is. Note that an \"object\" here represents a categorical variable while \"float\" is numeric. "
   ]
  },
  {
   "cell_type": "code",
   "execution_count": null,
   "id": "8e69318d",
   "metadata": {
    "id": "8e69318d"
   },
   "outputs": [],
   "source": [
    "df_raw.dtypes"
   ]
  },
  {
   "cell_type": "markdown",
   "id": "1c27a662",
   "metadata": {
    "id": "1c27a662"
   },
   "source": [
    "5. It looks like most of the useable data are of a categorical data type. What implications does this have for our analysis moving forward? "
   ]
  },
  {
   "cell_type": "markdown",
   "id": "7e7f1265",
   "metadata": {
    "id": "7e7f1265"
   },
   "source": [
    "Answer: "
   ]
  },
  {
   "cell_type": "markdown",
   "id": "aa933aa0",
   "metadata": {
    "id": "aa933aa0"
   },
   "source": [
    "### TODO 4\n",
    "From the displayed table, we can easily see that the data needs some preprocessing before engaging in EDA. \n",
    "\n",
    "How many NaNs (missing values) did you find from the printout above? Since this is difficult to tell through observation, let us handle this with a little python!\n",
    "\n",
    "Run the following code to remove all NaN (missing) values:"
   ]
  },
  {
   "cell_type": "code",
   "execution_count": null,
   "id": "e7f3df78",
   "metadata": {
    "id": "e7f3df78"
   },
   "outputs": [],
   "source": [
    "df_raw.dropna()"
   ]
  },
  {
   "cell_type": "markdown",
   "id": "d037fc8d",
   "metadata": {
    "id": "d037fc8d"
   },
   "source": [
    "OOPS! Simple removal of rows with NaNs removes all of the data! Obviously this is not a good idea, so let's see what is happening here by instead producing a summary of the number of missing observations in each collumn (i.e. for each variable).  \n",
    "\n",
    "### TODO 5\n",
    "Run the following cell"
   ]
  },
  {
   "cell_type": "code",
   "execution_count": null,
   "id": "c973499c",
   "metadata": {
    "id": "c973499c"
   },
   "outputs": [],
   "source": [
    "np.sum(df_raw.isna())"
   ]
  },
  {
   "cell_type": "markdown",
   "id": "eb551c43",
   "metadata": {
    "id": "eb551c43"
   },
   "source": [
    "### TODO 6\n",
    "Recall that the number of observations (rows) in this dataset is 738.\n",
    "1. With this in mind, make an argument for which variables should be removed from the dataset. Why?"
   ]
  },
  {
   "cell_type": "markdown",
   "id": "e6567db4",
   "metadata": {
    "id": "e6567db4"
   },
   "source": [
    "Answer: "
   ]
  },
  {
   "cell_type": "markdown",
   "id": "d28423a4",
   "metadata": {
    "id": "d28423a4"
   },
   "source": [
    "2. How might removing these variables influence your analysis? "
   ]
  },
  {
   "cell_type": "markdown",
   "id": "07eb85d3",
   "metadata": {
    "id": "07eb85d3"
   },
   "source": [
    "Answer: "
   ]
  },
  {
   "cell_type": "markdown",
   "id": "94bd2439",
   "metadata": {
    "id": "94bd2439"
   },
   "source": [
    "3. Let's remove some columns for practice, starting with those that will not be useful for our analysis either due to the information that they hold or because they are missing too many values.  \n",
    "\n",
    "    - We can do this a few ways, either by removing columns, or by keeping only some columns, using the index of the column or the column name. \n",
    "\n",
    "    - For now, we will use the column names and the drop() function in pandas. \n",
    "\n",
    "\n",
    "#### Method 1: Specify columns to Drop\n",
    "Note that here you are creating a new data frame (called df_drop) that will house only the variables (columns) that we want to work with. "
   ]
  },
  {
   "cell_type": "code",
   "execution_count": null,
   "id": "aa81402c",
   "metadata": {
    "id": "aa81402c"
   },
   "outputs": [],
   "source": [
    "df_drop = df_raw.drop(columns = ['URL',                  \n",
    "                  'Initiation of Cleanup Plan Date',\n",
    "                  'Cleanup Plan Date',\n",
    "                  'Link to Cleanup Plan',\n",
    "                  'Initial Public Meeting Date',\n",
    "                  'Location Restriction: Aquifer (257.60)',\n",
    "                  'Location Restriction: Wetlands (257.61)',\n",
    "                  'Location Restriction: Fault Areas (257.62)',\n",
    "                  'Location Restriction: Seismic impact zones (257.63)',\n",
    "                  'Location Restriction: Unstable areas (257.64)',\n",
    "                  'Site Wide Summary of 2017 GW Report Data (Source: Environmental Integrity Project)',\n",
    "                  'Cleanup Plan Status',\n",
    "                  'Current Volume Estimate (CY)',\n",
    "                  'Impounded Water Estimate (CY)',\n",
    "                  'Ten Most Contaminated Sites in the Country (Source: Environmental Integrity Project)',\n",
    "                  'Documented Damage to Aquatic Life (not comprehensive)',\n",
    "                  'Contamination of Private Drinking Water Wells (not comprehensive)',\n",
    "                  'Likely Coal Plant Retirement Status',\n",
    "                  'Unit(s) at Plant or Site in Flood Zone (all or partial)',\n",
    "                  'Lat',\n",
    "                  'Long'])\n",
    "df_drop"
   ]
  },
  {
   "cell_type": "markdown",
   "id": "b2fb796b",
   "metadata": {
    "id": "b2fb796b"
   },
   "source": [
    "4. What do you notice about the new dataframe you have created (called df_drop)? Does it seem more or less easy to work with than the raw data (df_raw)? Why?"
   ]
  },
  {
   "cell_type": "markdown",
   "id": "43b3e5a9",
   "metadata": {
    "id": "43b3e5a9"
   },
   "source": [
    "Answer: "
   ]
  },
  {
   "cell_type": "markdown",
   "id": "788188c9",
   "metadata": {
    "id": "788188c9"
   },
   "source": [
    "5. How many rows and columns does it have? "
   ]
  },
  {
   "cell_type": "markdown",
   "id": "2dc3d8ca",
   "metadata": {
    "id": "2dc3d8ca"
   },
   "source": [
    "Answer: "
   ]
  },
  {
   "cell_type": "markdown",
   "id": "f555c778",
   "metadata": {
    "id": "f555c778"
   },
   "source": [
    "Note that to find the number of rows and columns in a dataframe, you can use the .shape function to print the number of (rows, columns). Run the following code to see: "
   ]
  },
  {
   "cell_type": "code",
   "execution_count": null,
   "id": "e971fa92",
   "metadata": {
    "id": "e971fa92"
   },
   "outputs": [],
   "source": [
    "df_drop.shape"
   ]
  },
  {
   "cell_type": "markdown",
   "id": "525d67d4",
   "metadata": {
    "id": "525d67d4"
   },
   "source": [
    "Now let's try KEEPING the columns we want from the original dataset (df_raw) and call it df_new.\n",
    "\n",
    "#### Method 2: Specify columns to keep"
   ]
  },
  {
   "cell_type": "code",
   "execution_count": null,
   "id": "d49f5114",
   "metadata": {
    "id": "d49f5114"
   },
   "outputs": [],
   "source": [
    "df_new = df_raw[['Name of Plant \\nor Site', \n",
    "                   'Operator', \n",
    "                   'CCR Unit', \n",
    "                   'Closure Status', \n",
    "                   'Closure Plan (Actual if Closed)',\n",
    "                   'Groundwater Contamination Summary',\n",
    "                   'Unit Type',\n",
    "                   'Liner Status',\n",
    "                   'Hazard Rating',\n",
    "                   'Total Plant CCR Volume',\n",
    "                   'City',\n",
    "                   'State',\n",
    "                   'Congressional District Rep (Party & District)',\n",
    "                   'POC-Above State Average',\n",
    "                   'Low Income-Above State Average']]\n",
    "df_new"
   ]
  },
  {
   "cell_type": "markdown",
   "id": "db524d24",
   "metadata": {
    "id": "db524d24"
   },
   "source": [
    "The dataframes df_drop and df_new should look exactly the same. Moving forward, let's work with df_new to stay consistent (though using either would be okay). "
   ]
  },
  {
   "cell_type": "markdown",
   "id": "1101f615",
   "metadata": {
    "id": "1101f615"
   },
   "source": [
    "### TODO 7\n",
    "Now let's check out how many missing values we have using the isna() function again, but on the df_new dataframe. \n",
    "\n",
    "Run the following cell: "
   ]
  },
  {
   "cell_type": "code",
   "execution_count": null,
   "id": "33e5650e",
   "metadata": {
    "id": "33e5650e"
   },
   "outputs": [],
   "source": [
    "np.sum(df_new.isna())"
   ]
  },
  {
   "cell_type": "markdown",
   "id": "01d1acbf",
   "metadata": {
    "id": "01d1acbf"
   },
   "source": [
    "We still have some missing values here... let's hold off on managing those. "
   ]
  },
  {
   "cell_type": "markdown",
   "id": "a2876ca1",
   "metadata": {
    "id": "a2876ca1"
   },
   "source": [
    "# Exploratory Data Analysis\n",
    "## Visualizing Variable/Attribute Distributions"
   ]
  },
  {
   "cell_type": "markdown",
   "id": "173328b7",
   "metadata": {
    "id": "173328b7"
   },
   "source": [
    "#### Visualize data using Matplotlib\n",
    "By plotting data in graphs, visualizing data enables us to read or understand the data easy. It helps you analyze the data and find patterns or errors, even before applying data. \n",
    "\n",
    "#### What is Matplotlib?\n",
    "Matplotlib is a very popular and easy to work with plotting library that provides a MATLAB-like interface. It also just so happens to integrate nicely with Jupyter Notebooks, Numpy, and Pandas"
   ]
  },
  {
   "cell_type": "markdown",
   "id": "36c79a45",
   "metadata": {
    "id": "36c79a45"
   },
   "source": [
    "### TODO 8\n",
    "1. Let's start by looking at the distributions of each variable using using a histogram. Recall that a histogram shows the frequency (count) of each type of observation within a variable. This gives us a good overall idea of where most of the data lies within each variable/attribute. \n",
    "    \n",
    "    For instance, if we run the following code to explore the \"Closure Status\" attribute, we get the following histogram that groups the observations by \"open\", \"Notice of intent to close\" and \"closed\". These are descriptive classifications that tell us something about the distribution of plants that have each closure status. \n",
    "\n",
    "Run the following code: "
   ]
  },
  {
   "cell_type": "code",
   "execution_count": null,
   "id": "829dbe9e",
   "metadata": {
    "id": "829dbe9e"
   },
   "outputs": [],
   "source": [
    "#from the df_new datafram, create a histogram of the variable \"closure status\"\n",
    "df_new['Closure Status'].hist()\n"
   ]
  },
  {
   "cell_type": "markdown",
   "id": "7aa90e73",
   "metadata": {
    "id": "7aa90e73"
   },
   "source": [
    "2. In contrast to the \"closure status\" histogram above, using a histogram to visualize \"Name of Plant \\nor Site\" may not be as useful since much of the observations within this variable are unique (and there are so many!!!). \n",
    "\n",
    "Run the code below to see: "
   ]
  },
  {
   "cell_type": "code",
   "execution_count": null,
   "id": "5535ae31",
   "metadata": {
    "id": "5535ae31"
   },
   "outputs": [],
   "source": [
    "df_new['Name of Plant \\nor Site'].hist()"
   ]
  },
  {
   "cell_type": "markdown",
   "id": "b637614f",
   "metadata": {
    "id": "b637614f"
   },
   "source": [
    "3. Instead, let's look at the distribution for \"Closure plan\" to see what type of plans most sites have in place (if any).\n",
    "\n",
    "Run the following code:"
   ]
  },
  {
   "cell_type": "code",
   "execution_count": null,
   "id": "3be4d8d0",
   "metadata": {
    "id": "3be4d8d0"
   },
   "outputs": [],
   "source": [
    "#from the df_new datafram, create a histogram of the variable \"Closure Plan (Actual if Closed)\"\n",
    "df_new['Closure Plan (Actual if Closed)'].hist()"
   ]
  },
  {
   "cell_type": "markdown",
   "id": "a931fd04",
   "metadata": {
    "id": "a931fd04"
   },
   "source": [
    "Oof, that's not easy to read! Lets try to rotate the x-axis labels to read them better\n"
   ]
  },
  {
   "cell_type": "code",
   "execution_count": null,
   "id": "143de6c9",
   "metadata": {
    "id": "143de6c9"
   },
   "outputs": [],
   "source": [
    "#Make x-axis tick labels vertical\n",
    "plt.xticks(rotation='vertical')\n",
    "\n",
    "df_new['Closure Plan (Actual if Closed)'].hist()"
   ]
  },
  {
   "cell_type": "markdown",
   "id": "4cd0481e",
   "metadata": {
    "id": "4cd0481e"
   },
   "source": [
    "4. Based on the \"Closure Status\" and \"Closure Plan\" histograms, what can you say about the status and plans of US contamination sites?"
   ]
  },
  {
   "cell_type": "markdown",
   "id": "0652c897",
   "metadata": {
    "id": "0652c897"
   },
   "source": [
    "Answer: "
   ]
  },
  {
   "cell_type": "markdown",
   "id": "9369ac1d",
   "metadata": {
    "id": "9369ac1d"
   },
   "source": [
    "5. Let's look at some other distributions. Including: \n",
    "- Unit Type\n",
    "- Liner Status\n",
    "- Hazard Rating\n",
    "\n",
    "a. Complete the following code by entering the name of the variable whose distribution you would like to see (between the quotations in the last line of code', and run each cell to see the histograms: "
   ]
  },
  {
   "cell_type": "code",
   "execution_count": null,
   "id": "0cee450a",
   "metadata": {
    "id": "0cee450a"
   },
   "outputs": [],
   "source": [
    "#Enter 'Unit Type'\n",
    "\n",
    "plt.xticks(rotation='vertical')\n",
    "\n",
    "df_new[' '].hist()"
   ]
  },
  {
   "cell_type": "code",
   "execution_count": null,
   "id": "95f8a124",
   "metadata": {
    "id": "95f8a124"
   },
   "outputs": [],
   "source": [
    "#Liner Status\n",
    "\n",
    "df_new[' '].hist()"
   ]
  },
  {
   "cell_type": "code",
   "execution_count": null,
   "id": "b34028d8",
   "metadata": {
    "id": "b34028d8"
   },
   "outputs": [],
   "source": [
    "#Hazard Rating\n",
    "\n",
    "plt.xticks(rotation='vertical')\n",
    "df_new[' '].hist()"
   ]
  },
  {
   "cell_type": "markdown",
   "id": "eca8d09f",
   "metadata": {
    "id": "eca8d09f"
   },
   "source": [
    "5.b. What did you learn from each of the three histograms above: "
   ]
  },
  {
   "cell_type": "markdown",
   "id": "2e9915a7",
   "metadata": {
    "id": "2e9915a7"
   },
   "source": [
    "- Unit Type:\n",
    "\n",
    "- Liner Status: \n",
    "\n",
    "- Hazard Rating: "
   ]
  },
  {
   "cell_type": "markdown",
   "id": "058fea4a",
   "metadata": {
    "id": "058fea4a"
   },
   "source": [
    "Answer: "
   ]
  },
  {
   "cell_type": "markdown",
   "id": "f5648a3c",
   "metadata": {
    "id": "f5648a3c"
   },
   "source": [
    "6. Now let's check out where these sites are located. \n",
    "\n",
    "Recall that there are two variables which denote the location of the site: \"city\" and \"state\". Which histogram would be more useful for your analysis today (that is, at which level of aggregation)? Are there any cases where the alternate level of aggregation would be more useful? "
   ]
  },
  {
   "cell_type": "markdown",
   "id": "caa57bd0",
   "metadata": {
    "id": "caa57bd0"
   },
   "source": [
    "Answer: "
   ]
  },
  {
   "cell_type": "markdown",
   "id": "736379fb",
   "metadata": {
    "id": "736379fb"
   },
   "source": [
    "7. Run the following cells to see which level of aggregation works better for you. "
   ]
  },
  {
   "cell_type": "code",
   "execution_count": null,
   "id": "36be8d54",
   "metadata": {
    "id": "36be8d54"
   },
   "outputs": [],
   "source": [
    "fig = plt.figure(figsize=(16,12))\n",
    "#Makes the figure size bigger and easier to see\n",
    "plt.xticks(rotation='vertical')\n",
    "df_new['City'].hist()"
   ]
  },
  {
   "cell_type": "code",
   "execution_count": null,
   "id": "4542309f",
   "metadata": {
    "id": "4542309f"
   },
   "outputs": [],
   "source": [
    "fig = plt.figure(figsize=(16,12))\n",
    "plt.xticks(rotation='vertical')\n",
    "df_new['State'].hist()"
   ]
  },
  {
   "cell_type": "markdown",
   "id": "9a7be43c",
   "metadata": {
    "id": "9a7be43c"
   },
   "source": [
    "8. Which level of aggregation (city or state) gives you the most useable information? Why or why not? Were you surprised by this? "
   ]
  },
  {
   "cell_type": "markdown",
   "id": "cd431ff7",
   "metadata": {
    "id": "cd431ff7"
   },
   "source": [
    "Answer: "
   ]
  },
  {
   "cell_type": "markdown",
   "id": "a1c483c5",
   "metadata": {
    "id": "a1c483c5"
   },
   "source": [
    "9. What do the location histograms tell you about contamination sites in the US?"
   ]
  },
  {
   "cell_type": "markdown",
   "id": "c6cd2c50",
   "metadata": {
    "id": "c6cd2c50"
   },
   "source": [
    "Answer: "
   ]
  },
  {
   "cell_type": "markdown",
   "id": "af9ee596",
   "metadata": {
    "id": "af9ee596"
   },
   "source": [
    "## Splitting Columns"
   ]
  },
  {
   "cell_type": "markdown",
   "id": "9bdc32aa",
   "metadata": {
    "id": "9bdc32aa"
   },
   "source": [
    "### TODO 9\n",
    "Run the following code to generate a histogram of the Congressional District Representative (Party & District)."
   ]
  },
  {
   "cell_type": "code",
   "execution_count": null,
   "id": "061b982c",
   "metadata": {
    "id": "061b982c",
    "scrolled": true
   },
   "outputs": [],
   "source": [
    "fig = plt.figure(figsize=(16,12))\n",
    "plt.xticks(rotation='vertical')\n",
    "df_new['Congressional District Rep (Party & District)'].hist()"
   ]
  },
  {
   "cell_type": "markdown",
   "id": "8d802faa",
   "metadata": {
    "id": "8d802faa"
   },
   "source": [
    "Now obviously, this is problematic for visualizing this attribute because there are too many categorical values as observations within it. With that being said, this information may be interesting to some who want to know which representatives, political parties, and/or congressional districts have the most contamination sites. So, let's try to make this attribute more useable for our analysis. "
   ]
  },
  {
   "cell_type": "code",
   "execution_count": null,
   "id": "98c9414e",
   "metadata": {
    "id": "98c9414e"
   },
   "outputs": [],
   "source": [
    "df_new['Congressional District Rep (Party & District)']"
   ]
  },
  {
   "cell_type": "code",
   "execution_count": null,
   "id": "ae361d61",
   "metadata": {
    "id": "ae361d61"
   },
   "outputs": [],
   "source": [
    "# new data frame with split value columns\n",
    "df_split = df_new[\"Congressional District Rep (Party & District)\"].str.split(\"(\", expand=True)\n",
    "\n",
    "# making separate Representative name column from new data frame\n",
    "df_new[\"Congressional District Representative\"]= df_split[0]\n",
    "\n",
    "# making separate Party & District column from new data frame\n",
    "df_new[\"Party & District\"]= df_split[1]\n",
    "  \n",
    "# Dropping old column\n",
    "df_new.drop(columns =[\"Congressional District Rep (Party & District)\"], inplace = True)\n",
    "  \n",
    "# df display\n",
    "df_new\n"
   ]
  },
  {
   "cell_type": "markdown",
   "id": "bd627a08",
   "metadata": {
    "id": "bd627a08"
   },
   "source": [
    "It looks like the \"Congressional District Rep (Party & District)\" column is comprised of three useful pieces of information. That is, the Representative's name, their political party, and the congressional district in which they serve. So, let's try to split this column into three columns that hold each separate piece of information.\n",
    "\n",
    "To do this, we will use the split function. The key here is to figure out where we want the split to happen. In our case,  its not as simple as splitting the string at the whitespaces since they have first and last names. Thus, we will split the column at the opening parenthesis \"(\" first, then again at the dash \"-\" and then remove the closing parenthesis."
   ]
  },
  {
   "cell_type": "code",
   "execution_count": null,
   "id": "a592b684",
   "metadata": {
    "id": "a592b684"
   },
   "outputs": [],
   "source": [
    "# new data frame with split value columns\n",
    "df_split2 = df_new[\"Party & District\"].str.split(\"-\", expand=True)\n",
    "\n",
    "# making separate Representative name column from new data frame\n",
    "df_new[\"Party\"]= df_split2[0]\n",
    "\n",
    "# making separate Party & District column from new data frame\n",
    "df_new[\"District\"]= df_split2[1]\n",
    "  \n",
    "# Dropping old column\n",
    "df_new.drop(columns =[\"Party & District\"], inplace = True)\n",
    "\n",
    "# Remove close parenthesis at the end of 'District' column\n",
    "df_new['District'] = df_new['District'].str.replace(\")\", '')\n",
    "  \n",
    "# df display\n",
    "df_new"
   ]
  },
  {
   "cell_type": "markdown",
   "id": "68c4daf3",
   "metadata": {
    "id": "68c4daf3"
   },
   "source": [
    "### TODO 10\n",
    "\n",
    "COOOOOOOL! Now we have three columns that tell us the representative's name, their political party and their congressional district. Let's explore this data a bit. \n",
    "\n",
    "1. Make histograms for each representative, district and party column to explore their distributions within the data. Is there anything that sticks out?  "
   ]
  },
  {
   "cell_type": "code",
   "execution_count": null,
   "id": "d1a7c136",
   "metadata": {
    "id": "d1a7c136"
   },
   "outputs": [],
   "source": [
    "fig = plt.figure(figsize=(16,12))\n",
    "#Makes the figure size bigger and easier to see\n",
    "plt.xticks(rotation='vertical')\n",
    "df_new['Congressional District Representative'].hist()"
   ]
  },
  {
   "cell_type": "code",
   "execution_count": null,
   "id": "0dda22b2",
   "metadata": {
    "id": "0dda22b2"
   },
   "outputs": [],
   "source": [
    "plt.xticks(rotation='vertical')\n",
    "df_new['Party'].hist()"
   ]
  },
  {
   "cell_type": "code",
   "execution_count": null,
   "id": "e49168cc",
   "metadata": {
    "id": "e49168cc"
   },
   "outputs": [],
   "source": [
    "fig = plt.figure(figsize=(16,12))\n",
    "#Makes the figure size bigger and easier to see\n",
    "plt.xticks(rotation='vertical')\n",
    "df_new['District'].hist()"
   ]
  },
  {
   "cell_type": "markdown",
   "id": "a36125ca",
   "metadata": {
    "id": "a36125ca"
   },
   "source": [
    "2. Which histogram is most useful for your analysis and why?"
   ]
  },
  {
   "cell_type": "markdown",
   "id": "48b4f87d",
   "metadata": {
    "id": "48b4f87d"
   },
   "source": [
    "Answer: "
   ]
  },
  {
   "cell_type": "markdown",
   "id": "b9331658",
   "metadata": {
    "id": "b9331658"
   },
   "source": [
    "3. What did you learn about contamination sites from these visualizations?"
   ]
  },
  {
   "cell_type": "markdown",
   "id": "ca416e8c",
   "metadata": {
    "id": "ca416e8c"
   },
   "source": [
    "Answer: "
   ]
  },
  {
   "cell_type": "markdown",
   "id": "6bb92b2a",
   "metadata": {
    "id": "6bb92b2a"
   },
   "source": [
    "## Visualizing relationships between categorical variables\n",
    "Now let's explore the relationship between variables in this dataset with some visualizations. \n",
    "\n",
    "Here are some resources: \n",
    "- https://thinkingneuron.com/how-to-visualize-the-relationship-between-two-categorical-variables-in-python/\n",
    "- A Complete Guide to Plotting Categorical Variables with Seaborn: \n",
    "https://towardsdatascience.com/a-complete-guide-to-plotting-categorical-variables-with-seaborn-bfe54db66bec#:~:text=Plot%20with%20Hue-,Count%20Plot,which%20helps%20keep%20things%20simple.\n"
   ]
  },
  {
   "cell_type": "markdown",
   "id": "15996279",
   "metadata": {
    "id": "15996279"
   },
   "source": [
    "### TODO 11\n",
    "Let's start by looking at the Hazard Ratings for the sites in our data set. \n",
    "\n",
    "1. What variables do you think could be correlated with higher or lower hazard ratings? Why?"
   ]
  },
  {
   "cell_type": "markdown",
   "id": "30dadfad",
   "metadata": {
    "id": "30dadfad"
   },
   "source": [
    "Answer: "
   ]
  },
  {
   "cell_type": "markdown",
   "id": "2dee3c41",
   "metadata": {
    "id": "2dee3c41"
   },
   "source": [
    "2. What kind of a variable is \"Hazard Rating\"? "
   ]
  },
  {
   "cell_type": "code",
   "execution_count": null,
   "id": "6c87eb7b",
   "metadata": {
    "id": "6c87eb7b"
   },
   "outputs": [],
   "source": [
    "df_new[\"Hazard Rating\"].dtypes"
   ]
  },
  {
   "cell_type": "markdown",
   "id": "a426fbdf",
   "metadata": {
    "id": "a426fbdf"
   },
   "source": [
    "That's right, its an object (categorical variable). But, since Hazard rating has an order to it, it may be useful to encode the variable in a way that preserves that order. \n",
    "\n",
    "- Helpful Resource: https://pbpython.com/categorical-encoding.html\n",
    "\n",
    "Before we do that, let's remove any observations where the Hazard Rating is NaN (missing) and look just at those whose Hazard Rating has been reported. \n",
    "\n",
    "3. Run the isna() function to see how many missing values we're working with: "
   ]
  },
  {
   "cell_type": "code",
   "execution_count": null,
   "id": "c9278927",
   "metadata": {
    "id": "c9278927"
   },
   "outputs": [],
   "source": [
    "np.sum(df_new.isna())"
   ]
  },
  {
   "cell_type": "markdown",
   "id": "3fd4444a",
   "metadata": {
    "id": "3fd4444a"
   },
   "source": [
    "4. Looks like we have 250 missing values from the Hazard Rating column. Let's make a copy of the data frame called df_Haz (to preserve the rest of the data for later analysis). Here we will get rid of all of the observations (rows) in the dataframe where Hazard Rating is NaN. To do this, run the following code. "
   ]
  },
  {
   "cell_type": "code",
   "execution_count": null,
   "id": "d0d9773b",
   "metadata": {
    "id": "d0d9773b"
   },
   "outputs": [],
   "source": [
    "df_Haz=df_new.dropna(subset=['Hazard Rating'])\n",
    "df_Haz"
   ]
  },
  {
   "cell_type": "markdown",
   "id": "ccb57857",
   "metadata": {
    "id": "ccb57857"
   },
   "source": [
    "5. Now run isna() on df_Haz to make sure we have removed all missing values from the Hazard Rating column. "
   ]
  },
  {
   "cell_type": "code",
   "execution_count": null,
   "id": "29a0670b",
   "metadata": {
    "id": "29a0670b"
   },
   "outputs": [],
   "source": [
    "np.sum(df_Haz.isna())"
   ]
  },
  {
   "cell_type": "markdown",
   "id": "4c453f7a",
   "metadata": {
    "id": "4c453f7a"
   },
   "source": [
    "6. Now that the missing values have been removed from the Hazard Rating column, lets encode the Hazard Rating values with numbers in order to show their order. \n",
    "\n",
    "Run the following code, then look at the \"Hazard Rating\" column to see if the values have changed from string (words) to ordered values (numbers): "
   ]
  },
  {
   "cell_type": "code",
   "execution_count": null,
   "id": "2c48aa7b",
   "metadata": {
    "id": "2c48aa7b"
   },
   "outputs": [],
   "source": [
    "haz_rating_mapper = {\"Unknown\":0, \"Incised\":1, \"Low\":2, \"Significant\":3, \"High/Significant\":4, \"High\":5}\n",
    "df_Haz[\"Hazard Rating\"] = df_Haz[\"Hazard Rating\"].replace(haz_rating_mapper)\n",
    "\n",
    "df_Haz"
   ]
  },
  {
   "cell_type": "markdown",
   "id": "4f860b07",
   "metadata": {
    "id": "4f860b07"
   },
   "source": [
    "## Visualizing relationship between two categorical variables using a grouped bar chart\n",
    "### TODO 12\n",
    "It seems possible that the location of the site could be related to the hazard rating of a site. Let's check it out by cross tabulating the two variables and creating a Grouped Bar Chart. \n",
    "\n",
    "1. Run the code below. Then examine the cross tabulation results table and the Grouped Bar Chart. "
   ]
  },
  {
   "cell_type": "code",
   "execution_count": null,
   "id": "abfa3d02",
   "metadata": {
    "id": "abfa3d02"
   },
   "outputs": [],
   "source": [
    "# Cross tabulation between State and Hazard Rating\n",
    "CrosstabResult=pd.crosstab(index=df_Haz['Hazard Rating'],columns=df_Haz['State'])\n",
    "print(CrosstabResult)\n",
    "\n",
    "plt.rcParams[\"figure.figsize\"] = (16,12)\n",
    "# Grouped bar chart between State and Hazard Rating\n",
    "CrosstabResult.plot.bar()\n",
    "\n",
    "print(\"Where Hazard Ratings:  Unknown:0, Incised:1, Low:2, Significant:3, High/Significant:4, High:5\")"
   ]
  },
  {
   "cell_type": "markdown",
   "id": "83e7e39f",
   "metadata": {
    "id": "83e7e39f"
   },
   "source": [
    "1.b. Does there seem to be a correlation between Hazard Rating and the State in which they are located? That is, does the State in which the site is located seem to influence whether the rating is high, low, or somewhere in between? Why or why not? "
   ]
  },
  {
   "cell_type": "markdown",
   "id": "925cbd9b",
   "metadata": {
    "id": "925cbd9b"
   },
   "source": [
    "Answer: "
   ]
  },
  {
   "cell_type": "markdown",
   "id": "46d00c00",
   "metadata": {
    "id": "46d00c00"
   },
   "source": [
    "2. Now let's look at the political party that governs the congressional district in which the sites are located.\n",
    "\n",
    "Run the following code: "
   ]
  },
  {
   "cell_type": "code",
   "execution_count": null,
   "id": "f2cf5f91",
   "metadata": {
    "id": "f2cf5f91"
   },
   "outputs": [],
   "source": [
    "# Cross tabulation between State and Hazard Rating\n",
    "CrosstabResult=pd.crosstab(index=df_Haz['Hazard Rating'],columns=df_Haz['Party'])\n",
    "print(CrosstabResult)\n",
    "\n",
    "plt.rcParams[\"figure.figsize\"] = (16,12)\n",
    "# Grouped bar chart between State and Hazard Rating\n",
    "CrosstabResult.plot.bar()\n",
    "\n",
    "print(\"Where Hazard Ratings:  Unknown:0, Incised:1, Low:2, Significant:3, High/Significant:4, High:5\")"
   ]
  },
  {
   "cell_type": "markdown",
   "id": "1f249bb0",
   "metadata": {
    "id": "1f249bb0"
   },
   "source": [
    "2. What does this bar chart tell you about the hazard ratings within democratic and republican congressional districts? "
   ]
  },
  {
   "cell_type": "markdown",
   "id": "d719a569",
   "metadata": {
    "id": "d719a569"
   },
   "source": [
    "Answer: "
   ]
  },
  {
   "cell_type": "markdown",
   "id": "f48c7301",
   "metadata": {
    "id": "f48c7301"
   },
   "source": [
    "3. Does there seem to be a correlation between Hazard Rating and the Political Party in which the sites are located? Why or why not? "
   ]
  },
  {
   "cell_type": "markdown",
   "id": "be9730e0",
   "metadata": {
    "id": "be9730e0"
   },
   "source": [
    "Answer: "
   ]
  },
  {
   "cell_type": "markdown",
   "id": "20b18495",
   "metadata": {
    "id": "20b18495"
   },
   "source": [
    "# Reflection\n",
    "### TODO 13\n",
    "Watch AT LEAST 5 minutes of Hans Rollings' TED Talk video (you may get sucked in and watch all 20 and that's okay too!) https://www.youtube.com/watch?v=hVimVzgtD6w \n",
    "\n",
    "1. Based on your breif introduction to EDA in this lab and Hans Rolling's video, what do you think is gained by visualizing data through graphs? "
   ]
  },
  {
   "cell_type": "markdown",
   "id": "d86c8d4b",
   "metadata": {
    "id": "d86c8d4b"
   },
   "source": [
    "Answer: "
   ]
  },
  {
   "cell_type": "markdown",
   "id": "f61e11df",
   "metadata": {
    "id": "f61e11df"
   },
   "source": [
    "2. How does Exploratory Data Analysis help prepare you for conducting a predictive analysis? "
   ]
  },
  {
   "cell_type": "markdown",
   "id": "a0f764ec",
   "metadata": {
    "id": "a0f764ec"
   },
   "source": [
    "Answer: "
   ]
  },
  {
   "cell_type": "markdown",
   "id": "231b4810",
   "metadata": {
    "id": "231b4810"
   },
   "source": [
    "3. What are some things to look for when engaging in EDA? "
   ]
  },
  {
   "cell_type": "markdown",
   "id": "e5767a9d",
   "metadata": {
    "id": "e5767a9d"
   },
   "source": [
    "Answer: "
   ]
  },
  {
   "cell_type": "markdown",
   "id": "c4455886",
   "metadata": {
    "id": "c4455886"
   },
   "source": [
    "4. What are some ethical implications of NOT engaging in EDA before developing predictive models? "
   ]
  },
  {
   "cell_type": "markdown",
   "id": "73214288",
   "metadata": {
    "id": "73214288"
   },
   "source": [
    "Answer: "
   ]
  },
  {
   "cell_type": "markdown",
   "id": "f5eb1a5f",
   "metadata": {
    "id": "f5eb1a5f"
   },
   "source": [
    "5. If you have(had) more time, what are some other relationships/questions that you would explore within this dataset and why? How would you go about exploring them? "
   ]
  },
  {
   "cell_type": "markdown",
   "id": "f2ed1b38",
   "metadata": {
    "id": "f2ed1b38"
   },
   "source": [
    "Answer: "
   ]
  },
  {
   "cell_type": "markdown",
   "id": "f2497a35",
   "metadata": {
    "id": "f2497a35"
   },
   "source": [
    "## Next Steps - Advocating for Coal Ash Cleanups"
   ]
  },
  {
   "cell_type": "markdown",
   "id": "a6ea6310",
   "metadata": {
    "id": "a6ea6310"
   },
   "source": [
    "#### A Toolkit to Advocate for Coal Ash Cleanups\n",
    "https://docs.google.com/document/d/1woDXd_i0xFOA6VOoDVEd8VuKQMxW1piPOkZB0n51Mq8/edit\n",
    "\n",
    "The success of any individual coal ash cleanup will depend on the strength of the engagement of the local community in the cleanup process.\n",
    "\n",
    "If you live in a community where a cleanup process will take place (see most recent list, as PDF or spreadsheet), use the information and resources in A Toolkit to Advocate for Coal Ash Cleanups for tools and tips to advocate for the most protective outcome."
   ]
  }
 ],
 "metadata": {
  "colab": {
   "name": "Lab 3_Coal Ash_CCR Compliance Data (1) (1).ipynb",
   "provenance": []
  },
  "kernelspec": {
   "display_name": "Python 3 (ipykernel)",
   "language": "python",
   "name": "python3"
  },
  "language_info": {
   "codemirror_mode": {
    "name": "ipython",
    "version": 3
   },
   "file_extension": ".py",
   "mimetype": "text/x-python",
   "name": "python",
   "nbconvert_exporter": "python",
   "pygments_lexer": "ipython3",
   "version": "3.9.12"
  }
 },
 "nbformat": 4,
 "nbformat_minor": 5
}
